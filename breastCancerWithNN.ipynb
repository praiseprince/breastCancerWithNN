{
  "cells": [
    {
      "cell_type": "markdown",
      "metadata": {
        "id": "0ZNi0SdL-3k5"
      },
      "source": [
        "**Importing the dependencies**"
      ]
    },
    {
      "cell_type": "code",
      "execution_count": null,
      "metadata": {
        "id": "U0Y-2io7zy_i"
      },
      "outputs": [],
      "source": [
        "import numpy as np\n",
        "import pandas as pd\n",
        "import matplotlib.pyplot as plt\n",
        "import sklearn.datasets\n",
        "from sklearn.model_selection import train_test_split"
      ]
    },
    {
      "cell_type": "markdown",
      "metadata": {
        "id": "pA_OF8rR_C9k"
      },
      "source": [
        "**Data collection and processing**"
      ]
    },
    {
      "cell_type": "code",
      "execution_count": null,
      "metadata": {
        "id": "i-dOFJ7P1Djs"
      },
      "outputs": [],
      "source": [
        "# loading the data from sklearn\n",
        "breast_cancer_dataset = sklearn.datasets.load_breast_cancer()"
      ]
    },
    {
      "cell_type": "code",
      "execution_count": null,
      "metadata": {
        "colab": {
          "base_uri": "https://localhost:8080/"
        },
        "id": "9YUJV_WUAPog",
        "outputId": "31d8e367-18fb-4400-fd71-8a7eb468c633"
      },
      "outputs": [],
      "source": [
        "print(breast_cancer_dataset)"
      ]
    },
    {
      "cell_type": "code",
      "execution_count": null,
      "metadata": {
        "id": "6uL0W82ZBD4b"
      },
      "outputs": [],
      "source": [
        "# loading the data to a data frame\n",
        "data_frame = pd.DataFrame(breast_cancer_dataset.data, columns = breast_cancer_dataset.feature_names)"
      ]
    },
    {
      "cell_type": "code",
      "execution_count": null,
      "metadata": {
        "colab": {
          "base_uri": "https://localhost:8080/",
          "height": 290
        },
        "id": "qqPAwajIBR6t",
        "outputId": "ecba990f-414b-4145-822c-fef917c86325"
      },
      "outputs": [],
      "source": [
        "# print the first 5 rows of the dataframe\n",
        "data_frame.head()"
      ]
    },
    {
      "cell_type": "code",
      "execution_count": null,
      "metadata": {
        "id": "aTIknMNZCAXO"
      },
      "outputs": [],
      "source": [
        "# adding the 'target' column to the data frame\n",
        "data_frame['label'] = breast_cancer_dataset.target"
      ]
    },
    {
      "cell_type": "code",
      "execution_count": null,
      "metadata": {
        "colab": {
          "base_uri": "https://localhost:8080/",
          "height": 290
        },
        "id": "-Dxo1s7ICQXe",
        "outputId": "66ad27ec-af05-4364-9019-1cba0cb0bc37"
      },
      "outputs": [],
      "source": [
        "# print the last 5 rows of the dataframe\n",
        "data_frame.tail()"
      ]
    },
    {
      "cell_type": "code",
      "execution_count": null,
      "metadata": {
        "colab": {
          "base_uri": "https://localhost:8080/"
        },
        "id": "q2_V7LllC4Rr",
        "outputId": "01d8bb75-78f6-4c0b-c078-a5ebf758d062"
      },
      "outputs": [],
      "source": [
        "# prints the number of rows and columns in the dataset\n",
        "data_frame.shape"
      ]
    },
    {
      "cell_type": "code",
      "execution_count": null,
      "metadata": {
        "colab": {
          "base_uri": "https://localhost:8080/"
        },
        "id": "7yot29RzDB9m",
        "outputId": "8541b1a3-7566-4bac-f460-b1cb760188ad"
      },
      "outputs": [],
      "source": [
        "# getting some information about this data\n",
        "data_frame.info()"
      ]
    },
    {
      "cell_type": "code",
      "execution_count": null,
      "metadata": {
        "colab": {
          "base_uri": "https://localhost:8080/"
        },
        "id": "7G-xnrIWDcNQ",
        "outputId": "76d3fd25-eec0-4d50-decf-4b3552641424"
      },
      "outputs": [],
      "source": [
        "# checking for missing values\n",
        "data_frame.isnull().sum()"
      ]
    },
    {
      "cell_type": "code",
      "execution_count": null,
      "metadata": {
        "colab": {
          "base_uri": "https://localhost:8080/",
          "height": 384
        },
        "id": "pzLqI7ezDqaj",
        "outputId": "c3f5a1d7-5d01-40ea-ca87-cd2ff6168392"
      },
      "outputs": [],
      "source": [
        "# statistical measures about the data\n",
        "data_frame.describe()"
      ]
    },
    {
      "cell_type": "code",
      "execution_count": null,
      "metadata": {
        "colab": {
          "base_uri": "https://localhost:8080/"
        },
        "id": "ngUSopz_ERsV",
        "outputId": "6bd3985b-830c-4de1-be93-ac694e04d190"
      },
      "outputs": [],
      "source": [
        "# checking the distribution of target variable\n",
        "data_frame['label'].value_counts()"
      ]
    },
    {
      "cell_type": "markdown",
      "metadata": {
        "id": "rxvuo-XTEdem"
      },
      "source": [
        "*1 -> Benign*\n",
        "\n",
        "*2 -> Malignant*"
      ]
    },
    {
      "cell_type": "code",
      "execution_count": null,
      "metadata": {
        "colab": {
          "base_uri": "https://localhost:8080/",
          "height": 227
        },
        "id": "SapcT7-jE2NO",
        "outputId": "8a0c60b1-418b-4861-cfb8-b9600b12f750"
      },
      "outputs": [],
      "source": [
        "data_frame.groupby('label').mean()"
      ]
    },
    {
      "cell_type": "markdown",
      "metadata": {
        "id": "sYIBeAi9GenI"
      },
      "source": [
        "**Seperating the features and target**"
      ]
    },
    {
      "cell_type": "code",
      "execution_count": null,
      "metadata": {
        "id": "WZnKfwv8Gmlw"
      },
      "outputs": [],
      "source": [
        "X = data_frame.drop(columns='label', axis = 1)\n",
        "Y = data_frame['label']"
      ]
    },
    {
      "cell_type": "code",
      "execution_count": null,
      "metadata": {
        "colab": {
          "base_uri": "https://localhost:8080/"
        },
        "id": "zqspEebiG2mh",
        "outputId": "f3c21fd8-1c85-4a93-fe58-cdca552d395a"
      },
      "outputs": [],
      "source": [
        "print(X)"
      ]
    },
    {
      "cell_type": "code",
      "execution_count": null,
      "metadata": {
        "colab": {
          "base_uri": "https://localhost:8080/"
        },
        "id": "3LIhv0KjG5WZ",
        "outputId": "d1a90dff-8c49-4671-c977-d877e04823c4"
      },
      "outputs": [],
      "source": [
        "print(Y)"
      ]
    },
    {
      "cell_type": "markdown",
      "metadata": {
        "id": "nfxNVpEFOhAc"
      },
      "source": [
        "**Splitting the data into training data and testing data**"
      ]
    },
    {
      "cell_type": "code",
      "execution_count": null,
      "metadata": {
        "id": "2UFo5UKqOgoT"
      },
      "outputs": [],
      "source": [
        "X_train, X_test, Y_train, Y_test = train_test_split(X, Y, test_size=0.2, random_state=2)"
      ]
    },
    {
      "cell_type": "code",
      "execution_count": null,
      "metadata": {
        "colab": {
          "base_uri": "https://localhost:8080/"
        },
        "id": "HLqOomlDPQS_",
        "outputId": "805f37fb-be74-40c4-8809-f29b3c793ac9"
      },
      "outputs": [],
      "source": [
        "print(X.shape, X_train.shape, X_test.shape)"
      ]
    },
    {
      "cell_type": "markdown",
      "metadata": {
        "id": "BOaDrPg-beYK"
      },
      "source": [
        "**Standardize the data**"
      ]
    },
    {
      "cell_type": "code",
      "execution_count": null,
      "metadata": {
        "id": "OAEXOCNKbj6T"
      },
      "outputs": [],
      "source": [
        "from sklearn.preprocessing import StandardScaler"
      ]
    },
    {
      "cell_type": "code",
      "execution_count": null,
      "metadata": {
        "id": "rBhAkmPabpl0"
      },
      "outputs": [],
      "source": [
        "scaler = StandardScaler()\n",
        "X_train_std = scaler.fit_transform(X_train)\n",
        "X_test_std = scaler.transform(X_test)"
      ]
    },
    {
      "cell_type": "markdown",
      "metadata": {
        "id": "pzT_SpkePi5e"
      },
      "source": [
        "**Building the Neural Network**"
      ]
    },
    {
      "cell_type": "code",
      "execution_count": null,
      "metadata": {
        "id": "HAup6m9tP268"
      },
      "outputs": [],
      "source": [
        "# importing tensorflow and keras\n",
        "import tensorflow as tf\n",
        "tf.random.set_seed(3)\n",
        "from tensorflow import keras"
      ]
    },
    {
      "cell_type": "code",
      "execution_count": null,
      "metadata": {
        "id": "PfPlDujjRIhT"
      },
      "outputs": [],
      "source": [
        "# setting up the layers of the Neural Network\n",
        "# Input layer -> Hidden layer -> Output layer\n",
        "model = keras.Sequential([\n",
        "    keras.layers.Flatten(input_shape=(30,)),\n",
        "    keras.layers.Dense(20, activation='relu'),\n",
        "    keras.layers.Dense(2, activation='sigmoid')\n",
        "    ])"
      ]
    },
    {
      "cell_type": "code",
      "execution_count": null,
      "metadata": {
        "id": "uhftS2iJUFK8"
      },
      "outputs": [],
      "source": [
        "# compiling the Neural Network\n",
        "model.compile(optimizer='adam', loss='sparse_categorical_crossentropy', metrics=['accuracy'])"
      ]
    },
    {
      "cell_type": "code",
      "execution_count": null,
      "metadata": {
        "colab": {
          "base_uri": "https://localhost:8080/"
        },
        "id": "__r4KapQYVt7",
        "outputId": "f679069a-a12b-4d53-af7d-318a6f837f39"
      },
      "outputs": [],
      "source": [
        "# training the Neural Network\n",
        "history = model.fit(X_train_std, Y_train, validation_split=0.1, epochs=10)"
      ]
    },
    {
      "cell_type": "markdown",
      "metadata": {
        "id": "rEVZYPUAdt6Y"
      },
      "source": [
        "**Visualizing accuracy and loss**"
      ]
    },
    {
      "cell_type": "code",
      "execution_count": null,
      "metadata": {
        "colab": {
          "base_uri": "https://localhost:8080/",
          "height": 489
        },
        "id": "0KWLb95ydzRz",
        "outputId": "6902832e-a5d3-4106-d58f-380ef73d0c54"
      },
      "outputs": [],
      "source": [
        "plt.plot(history.history['accuracy'])\n",
        "plt.plot(history.history['val_accuracy'])\n",
        "plt.title('model accuracy')\n",
        "plt.ylabel('accuracy')\n",
        "plt.xlabel('epoch')\n",
        "plt.legend(['training data', 'validation data'], loc = 'lower right')"
      ]
    },
    {
      "cell_type": "code",
      "execution_count": null,
      "metadata": {
        "colab": {
          "base_uri": "https://localhost:8080/",
          "height": 489
        },
        "id": "vZq2uQHkgvWG",
        "outputId": "1ad3d779-fc73-41bb-d912-5343b7f797cc"
      },
      "outputs": [],
      "source": [
        "plt.plot(history.history['loss'])\n",
        "plt.plot(history.history['val_loss'])\n",
        "plt.title('model loss')\n",
        "plt.ylabel('loss')\n",
        "plt.xlabel('epoch')\n",
        "plt.legend(['training data', 'validation data'], loc = 'upper right')"
      ]
    },
    {
      "cell_type": "markdown",
      "metadata": {
        "id": "piIg8D4shSBC"
      },
      "source": [
        "**Accuracy of the model on test data**"
      ]
    },
    {
      "cell_type": "code",
      "execution_count": null,
      "metadata": {
        "colab": {
          "base_uri": "https://localhost:8080/"
        },
        "id": "7ioOi0tPhV7z",
        "outputId": "36d9f1ff-7647-4776-a7a4-6b3dcfe945bf"
      },
      "outputs": [],
      "source": [
        "loss, accuracy = model.evaluate(X_test_std, Y_test)\n",
        "print(accuracy)"
      ]
    },
    {
      "cell_type": "code",
      "execution_count": null,
      "metadata": {
        "colab": {
          "base_uri": "https://localhost:8080/"
        },
        "id": "xUUJxZa1hw7z",
        "outputId": "a5601f54-f145-41c7-f913-f7c3e055d6e6"
      },
      "outputs": [],
      "source": [
        "print(X_test_std.shape)\n",
        "print(X_test_std[0])"
      ]
    },
    {
      "cell_type": "code",
      "execution_count": null,
      "metadata": {
        "colab": {
          "base_uri": "https://localhost:8080/"
        },
        "id": "obYkxOq-iGD0",
        "outputId": "eaf2fb7c-7e8b-4f4b-a488-7369341b44b8"
      },
      "outputs": [],
      "source": [
        "Y_pred = model.predict(X_test_std)"
      ]
    },
    {
      "cell_type": "code",
      "execution_count": null,
      "metadata": {
        "colab": {
          "base_uri": "https://localhost:8080/"
        },
        "id": "uOCfjMe9iMwS",
        "outputId": "c5310a38-a6d2-4dc9-e969-4c3436d01cea"
      },
      "outputs": [],
      "source": [
        "print(Y_pred.shape)\n",
        "print(Y_pred[0])"
      ]
    },
    {
      "cell_type": "code",
      "execution_count": null,
      "metadata": {
        "colab": {
          "base_uri": "https://localhost:8080/"
        },
        "id": "TY9z9TXXiz-I",
        "outputId": "4e080f6c-9461-48c2-8de1-643329d30763"
      },
      "outputs": [],
      "source": [
        "print(X_test_std)"
      ]
    },
    {
      "cell_type": "code",
      "execution_count": null,
      "metadata": {
        "colab": {
          "base_uri": "https://localhost:8080/"
        },
        "id": "Gn6vZ9EPiwas",
        "outputId": "c1dc0779-1bf7-4a40-dc6e-60aa05724b45"
      },
      "outputs": [],
      "source": [
        "print(Y_pred)"
      ]
    },
    {
      "cell_type": "markdown",
      "metadata": {
        "id": "1FPCujttjq2c"
      },
      "source": [
        "*model.predict() gives the prediction probability of each class for the data point*"
      ]
    },
    {
      "cell_type": "code",
      "execution_count": null,
      "metadata": {
        "colab": {
          "base_uri": "https://localhost:8080/"
        },
        "id": "WySESmqbjhvS",
        "outputId": "c0b0ddb3-9c27-4842-f763-805f3e64e804"
      },
      "outputs": [],
      "source": [
        "# converting the prediction probability to class labels\n",
        "Y_pred_labels = [np.argmax(i) for i in Y_pred]\n",
        "print(Y_pred_labels)"
      ]
    },
    {
      "cell_type": "markdown",
      "metadata": {
        "id": "G80ScO0UlZ2i"
      },
      "source": [
        "**Building and testing the predictive system**"
      ]
    },
    {
      "cell_type": "code",
      "execution_count": null,
      "metadata": {},
      "outputs": [],
      "source": [
        "model.save('model/BreastCancerNN.h5')"
      ]
    },
    {
      "cell_type": "code",
      "execution_count": null,
      "metadata": {},
      "outputs": [],
      "source": [
        "from keras.models import load_model\n",
        "\n",
        "model1 = load_model('./model/BreastCancerNN.h5', compile=False)"
      ]
    },
    {
      "cell_type": "code",
      "execution_count": null,
      "metadata": {
        "colab": {
          "base_uri": "https://localhost:8080/"
        },
        "id": "EULcGgTzlYAO",
        "outputId": "0048adbb-eecd-4f1b-c5f1-410ed4154c2b"
      },
      "outputs": [],
      "source": [
        "def predictTumor():\n",
        "    input_data_str = input('Please input the data: ')\n",
        "    input_data_list = input_data_str.split(',')\n",
        "    input_data_float = [float(value) for value in input_data_list]\n",
        "\n",
        "    # change the input_data to numpy array\n",
        "    input_data_as_numpy_array = np.asarray(input_data_float)\n",
        "\n",
        "    # reshape the numpy array as we are predicting for one data point\n",
        "    input_data_reshaped = input_data_as_numpy_array.reshape(1, -1)\n",
        "\n",
        "    # standardizing the input data\n",
        "    input_data_std = scaler.transform(input_data_reshaped)\n",
        "\n",
        "    prediction = model1.predict(input_data_std)\n",
        "    print(prediction)\n",
        "\n",
        "    prediction_label = [np.argmax(prediction)]\n",
        "    print(prediction_label)\n",
        "\n",
        "    if(prediction_label[0] == 0):\n",
        "      print('The tumor is Malignant')\n",
        "\n",
        "    else:\n",
        "      print('The tumor is Benign')"
      ]
    },
    {
      "cell_type": "code",
      "execution_count": null,
      "metadata": {},
      "outputs": [],
      "source": [
        "predictTumor()"
      ]
    }
  ],
  "metadata": {
    "colab": {
      "provenance": []
    },
    "kernelspec": {
      "display_name": "Python 3",
      "name": "python3"
    },
    "language_info": {
      "codemirror_mode": {
        "name": "ipython",
        "version": 3
      },
      "file_extension": ".py",
      "mimetype": "text/x-python",
      "name": "python",
      "nbconvert_exporter": "python",
      "pygments_lexer": "ipython3",
      "version": "3.9.18"
    }
  },
  "nbformat": 4,
  "nbformat_minor": 0
}
